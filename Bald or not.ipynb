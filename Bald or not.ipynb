{
 "cells": [
  {
   "cell_type": "code",
   "execution_count": 3,
   "metadata": {},
   "outputs": [],
   "source": [
    "import numpy as np\n",
    "import os\n",
    "import cv2\n",
    "from sklearn.model_selection import train_test_split\n",
    "from sklearn.preprocessing import LabelEncoder\n",
    "from keras.models import Sequential\n",
    "from keras.layers import Conv2D, MaxPooling2D, Flatten, Dense\n",
    "from keras.utils import to_categorical"
   ]
  },
  {
   "cell_type": "code",
   "execution_count": 4,
   "metadata": {},
   "outputs": [],
   "source": [
    "def load_data(data_dir):\n",
    "    images = []\n",
    "    labels = []\n",
    "    for filename in os.listdir(data_dir):\n",
    "        image = cv2.imread(os.path.join(data_dir, filename))\n",
    "        image = cv2.resize(image, (64, 64))  # Resize images to a fixed size\n",
    "        images.append(image)\n",
    "        labels.append(filename.split('_')[1])  # Extract age from filename\n",
    "    return np.array(images), np.array(labels)\n",
    "\n",
    "data_dir = \"C:/Age Gender Detection/UTKFace\"\n",
    "images, labels = load_data(data_dir)"
   ]
  },
  {
   "cell_type": "code",
   "execution_count": 5,
   "metadata": {},
   "outputs": [],
   "source": [
    "images = images.astype('float32') / 255.0  # Normalize pixel values to [0, 1]\n",
    "encoder = LabelEncoder()\n",
    "labels = encoder.fit_transform(labels)\n",
    "labels = to_categorical(labels)"
   ]
  },
  {
   "cell_type": "code",
   "execution_count": 6,
   "metadata": {},
   "outputs": [],
   "source": [
    "X_train, X_test, y_train, y_test = train_test_split(images, labels, test_size=0.2, random_state=42)"
   ]
  },
  {
   "cell_type": "code",
   "execution_count": 7,
   "metadata": {},
   "outputs": [],
   "source": [
    "model = Sequential()\n",
    "model.add(Conv2D(32, (3, 3), activation='relu', input_shape=(64, 64, 3)))\n",
    "model.add(MaxPooling2D((2, 2)))\n",
    "model.add(Conv2D(64, (3, 3), activation='relu'))\n",
    "model.add(MaxPooling2D((2, 2)))\n",
    "model.add(Flatten())\n",
    "model.add(Dense(64, activation='relu'))\n",
    "model.add(Dense(2, activation='softmax')) "
   ]
  },
  {
   "cell_type": "code",
   "execution_count": 8,
   "metadata": {},
   "outputs": [],
   "source": [
    "model.compile(optimizer='adam', loss='binary_crossentropy', metrics=['accuracy'])"
   ]
  },
  {
   "cell_type": "code",
   "execution_count": 9,
   "metadata": {},
   "outputs": [
    {
     "name": "stdout",
     "output_type": "stream",
     "text": [
      "Epoch 1/10\n",
      "593/593 [==============================] - 110s 178ms/step - loss: 0.4335 - accuracy: 0.7939 - val_loss: 0.3130 - val_accuracy: 0.8676\n",
      "Epoch 2/10\n",
      "593/593 [==============================] - 108s 182ms/step - loss: 0.2932 - accuracy: 0.8766 - val_loss: 0.2691 - val_accuracy: 0.8842\n",
      "Epoch 3/10\n",
      "593/593 [==============================] - 104s 176ms/step - loss: 0.2602 - accuracy: 0.8908 - val_loss: 0.2510 - val_accuracy: 0.8925\n",
      "Epoch 4/10\n",
      "593/593 [==============================] - 105s 177ms/step - loss: 0.2360 - accuracy: 0.9005 - val_loss: 0.2490 - val_accuracy: 0.8910\n",
      "Epoch 5/10\n",
      "593/593 [==============================] - 103s 174ms/step - loss: 0.2178 - accuracy: 0.9091 - val_loss: 0.2981 - val_accuracy: 0.8764\n",
      "Epoch 6/10\n",
      "593/593 [==============================] - 105s 177ms/step - loss: 0.2025 - accuracy: 0.9177 - val_loss: 0.2458 - val_accuracy: 0.8979\n",
      "Epoch 7/10\n",
      "593/593 [==============================] - 108s 182ms/step - loss: 0.1870 - accuracy: 0.9244 - val_loss: 0.2363 - val_accuracy: 0.9005\n",
      "Epoch 8/10\n",
      "593/593 [==============================] - 106s 178ms/step - loss: 0.1702 - accuracy: 0.9331 - val_loss: 0.2442 - val_accuracy: 0.9000\n",
      "Epoch 9/10\n",
      "593/593 [==============================] - 106s 178ms/step - loss: 0.1584 - accuracy: 0.9359 - val_loss: 0.2541 - val_accuracy: 0.8986\n",
      "Epoch 10/10\n",
      "593/593 [==============================] - 103s 173ms/step - loss: 0.1452 - accuracy: 0.9432 - val_loss: 0.2869 - val_accuracy: 0.8941\n"
     ]
    },
    {
     "data": {
      "text/plain": [
       "<keras.callbacks.History at 0x1659a499248>"
      ]
     },
     "execution_count": 9,
     "metadata": {},
     "output_type": "execute_result"
    }
   ],
   "source": [
    "model.fit(X_train, y_train, epochs=10, batch_size=32, validation_data=(X_test, y_test))"
   ]
  },
  {
   "cell_type": "code",
   "execution_count": 10,
   "metadata": {},
   "outputs": [
    {
     "name": "stdout",
     "output_type": "stream",
     "text": [
      "149/149 [==============================] - 6s 41ms/step - loss: 0.2869 - accuracy: 0.8941\n",
      "Test Accuracy: 89.41%\n"
     ]
    }
   ],
   "source": [
    "loss, accuracy = model.evaluate(X_test, y_test)\n",
    "print(f'Test Accuracy: {accuracy * 100:.2f}%')\n"
   ]
  },
  {
   "cell_type": "code",
   "execution_count": 19,
   "metadata": {},
   "outputs": [],
   "source": [
    "model.save(\"bald_classifier_model.keras\")\n"
   ]
  },
  {
   "cell_type": "code",
   "execution_count": 20,
   "metadata": {},
   "outputs": [
    {
     "name": "stdout",
     "output_type": "stream",
     "text": [
      "Current working directory: c:\\Users\\user\\AppData\\Local\\Programs\\Microsoft VS Code\n"
     ]
    }
   ],
   "source": [
    "import os\n",
    "print(\"Current working directory:\", os.getcwd())\n"
   ]
  },
  {
   "cell_type": "code",
   "execution_count": 12,
   "metadata": {},
   "outputs": [
    {
     "data": {
      "text/plain": [
       "''"
      ]
     },
     "execution_count": 12,
     "metadata": {},
     "output_type": "execute_result"
    }
   ],
   "source": [
    "import tkinter as tk\n",
    "from tkinter import messagebox\n",
    "root = tk.Tk()\n",
    "root.title(\"Bald Classifier Model Training\")"
   ]
  },
  {
   "cell_type": "code",
   "execution_count": null,
   "metadata": {},
   "outputs": [],
   "source": [
    "import os\n",
    "\n",
    "# Specify the directory where you want to save the model file\n",
    "save_dir = \"C:\\Age Gender Detection\"\n",
    "\n",
    "# Make sure the directory exists, create it if it doesn't\n",
    "os.makedirs(save_dir, exist_ok=True)\n",
    "\n",
    "# Save the model to the specified directory\n",
    "model.save(os.path.join(save_dir, \"bald_classifier_model.h5\"))\n"
   ]
  },
  {
   "cell_type": "code",
   "execution_count": null,
   "metadata": {},
   "outputs": [],
   "source": []
  }
 ],
 "metadata": {
  "kernelspec": {
   "display_name": "Python 3",
   "language": "python",
   "name": "python3"
  },
  "language_info": {
   "codemirror_mode": {
    "name": "ipython",
    "version": 3
   },
   "file_extension": ".py",
   "mimetype": "text/x-python",
   "name": "python",
   "nbconvert_exporter": "python",
   "pygments_lexer": "ipython3",
   "version": "3.7.9"
  }
 },
 "nbformat": 4,
 "nbformat_minor": 2
}
